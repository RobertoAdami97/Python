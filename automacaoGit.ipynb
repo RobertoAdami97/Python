{
 "cells": [
  {
   "cell_type": "markdown",
   "id": "3ee0fff9",
   "metadata": {},
   "source": [
    "# Git com Python - Automação de Tarefas"
   ]
  },
  {
   "cell_type": "code",
   "execution_count": 28,
   "id": "46db8a34",
   "metadata": {},
   "outputs": [
    {
     "data": {
      "text/plain": [
       "'OK'"
      ]
     },
     "execution_count": 28,
     "metadata": {},
     "output_type": "execute_result"
    }
   ],
   "source": [
    "import pyautogui\n",
    "from selenium import webdriver\n",
    "from selenium.webdriver.common.by import By\n",
    "import time\n",
    "\n",
    "pyautogui.alert(\"O codigo será iniciado, após pressionar enter não utilize mais o computador até o final da execução.\")\n",
    "\n",
    "\n",
    "# abrir o google chrome\n",
    "navegador = webdriver.Firefox()\n",
    "# Acessar e logar no github\n",
    "navegador.get(\"https://github.com/\")\n",
    "time.sleep(1.5)\n",
    "navegador.find_element(\"xpath\",'/html/body/div[1]/div[1]/header/div/div[2]/div/div/div[2]/a').click()\n",
    "time.sleep(1.5)\n",
    "\n",
    "# Inserir e-mail e senha\n",
    "# navegador.find_element(By.CSS_SELECTOR, '[name=\"login\"]').send_keys(\"webElement\")\n",
    "navegador.find_element(\"xpath\",'//*[@id=\"login_field\"]').send_keys(\"robertoadami@outlook.com\")\n",
    "navegador.find_element(\"xpath\",'//*[@id=\"password\"]').send_keys(\"Beto(1997)\")\n",
    "pyautogui.press(\"Enter\")\n",
    "# navegador.find_element(\"xpath\",'//*[@id=\"login\"]/div[4]/form/div/input[11]').click()\n",
    "time.sleep(2.5)\n",
    "# Acessar o repositório dos arquivos Python e a pasta automacaoPython, onde será feito o push\n",
    "navegador.find_element(\"xpath\",'/html/body/div[1]/div[5]/div/aside/div/loading-context/div/div[1]/div/ul/li[1]/div/div').click()\n",
    "\n",
    "#time.sleep(2.5)\n",
    "#navegador.find_element(\"xpath\",'/html/body/div[1]/div[5]/div/main/turbo-frame/div/div/div/div[3]/div[1]/div[3]/div[3]/div[1]/div[2]/div[2]/span/a').click()\n",
    "\n",
    "# selecionar o repositorio e copiar o link ssh\n",
    "time.sleep(1.5)\n",
    "navegador.find_element(\"xpath\",'/html/body/div[1]/div[5]/div/main/turbo-frame/div/div/div/div[3]/div[1]/div[2]/span[1]/get-repo/details/summary').click()\n",
    "time.sleep(3.1)\n",
    "navegador.find_element(\"xpath\",'/html/body/div[1]/div[5]/div/main/turbo-frame/div/div/div/div[3]/div[1]/div[2]/span[1]/get-repo/details/div/div/div[1]/tab-container/div[2]/ul/li[1]/tab-container/div[2]/div/div').click()\n",
    "# password: Senha(12345), senha nova: Beto(1997)\n",
    "# abrir o git bash e executar os comandos para enviar os arquivos ao repositorio remoto\n",
    "time.sleep(1.5)\n",
    "pyautogui.press(\"winleft\")\n",
    "time.sleep(2.5)\n",
    "pyautogui.write(\"Git\")\n",
    "time.sleep(2.5)\n",
    "pyautogui.press(\"space\")\n",
    "time.sleep(2.5)\n",
    "pyautogui.write(\"Bash\")\n",
    "time.sleep(2.5)\n",
    "pyautogui.press(\"enter\")\n",
    "time.sleep(10)\n",
    "pyautogui.write(r\"cd Desktop//cursoPython//automacoesPython\")\n",
    "time.sleep(4)\n",
    "pyautogui.press(\"enter\")\n",
    "time.sleep(1.5)\n",
    "pyautogui.write(\"git status\")\n",
    "time.sleep(1.5)\n",
    "pyautogui.press(\"enter\")\n",
    "#time.sleep(1.5)\n",
    "#pyautogui.write(\"git add *\")\n",
    "#time.sleep(1.5)\n",
    "#pyautogui.press(\"enter\")\n",
    "time.sleep(6)\n",
    "pyautogui.write(\"git commit -am 'Atualizacao de todo conteudo 30-01-2023'\")\n",
    "time.sleep(1.5)\n",
    "pyautogui.press(\"enter\")\n",
    "time.sleep(6)\n",
    "pyautogui.write(\"git push origin master\")\n",
    "time.sleep(1.5)\n",
    "#pyautogui.hotkey(\"ctrl\",\"v\")\n",
    "pyautogui.press(\"enter\")\n",
    "time.sleep(5)\n",
    "pyautogui.hotkey(\"alt\",\"tab\")\n",
    "time.sleep(1.5)\n",
    "#navegador.find_element(\"xpath\",'/html/body/div[5]/div/main/turbo-frame/div/div/div/div[3]/div[1]/div[2]/span/get-repo/details/summary').click()\n",
    "#time.sleep(1.5)\n",
    "#navegador.find_element(\"xpath\",'//*[@id=\"repo-content-pjax-container\"]/div/div/div[3]/div[1]/div[3]/div[3]/div[1]/div[2]/div[2]/span/a').click()\n",
    "time.sleep(1.5)\n",
    "pyautogui.alert(\"O codigo foi encerrado, já é possivel utilizar o computador normalmente.\")\n"
   ]
  },
  {
   "cell_type": "code",
   "execution_count": 6,
   "id": "854339be",
   "metadata": {},
   "outputs": [],
   "source": [
    "import pyautogui\n",
    "from selenium import webdriver\n",
    "from selenium.webdriver.common.by import By\n",
    "import time\n",
    "\n",
    "# password: Senha(12345)\n",
    "# abrir o git bash e executar os comandos para enviar os arquivos ao repositorio remoto\n",
    "time.sleep(1.5)\n",
    "pyautogui.press(\"winleft\")\n",
    "time.sleep(1.5)\n",
    "pyautogui.write(\"Git\")\n",
    "time.sleep(1)\n",
    "pyautogui.press(\"space\")\n",
    "time.sleep(1)\n",
    "pyautogui.write(\"Bash\")\n",
    "time.sleep(1)\n",
    "pyautogui.press(\"enter\")\n",
    "time.sleep(10)\n",
    "pyautogui.write(r\"cd Desktop//cursoPython//intensivaoPython\")\n",
    "time.sleep(2)\n",
    "pyautogui.press(\"enter\")"
   ]
  },
  {
   "cell_type": "code",
   "execution_count": null,
   "id": "10b955dd",
   "metadata": {},
   "outputs": [],
   "source": []
  }
 ],
 "metadata": {
  "kernelspec": {
   "display_name": "Python 3 (ipykernel)",
   "language": "python",
   "name": "python3"
  },
  "language_info": {
   "codemirror_mode": {
    "name": "ipython",
    "version": 3
   },
   "file_extension": ".py",
   "mimetype": "text/x-python",
   "name": "python",
   "nbconvert_exporter": "python",
   "pygments_lexer": "ipython3",
   "version": "3.9.12"
  }
 },
 "nbformat": 4,
 "nbformat_minor": 5
}
