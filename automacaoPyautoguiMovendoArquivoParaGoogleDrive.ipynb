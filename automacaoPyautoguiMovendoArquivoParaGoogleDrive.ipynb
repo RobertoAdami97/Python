{
 "cells": [
  {
   "cell_type": "code",
   "execution_count": 16,
   "id": "e634f55d",
   "metadata": {},
   "outputs": [
    {
     "data": {
      "text/plain": [
       "'OK'"
      ]
     },
     "execution_count": 16,
     "metadata": {},
     "output_type": "execute_result"
    }
   ],
   "source": [
    "import pyautogui\n",
    "import time\n",
    "\n",
    "#nome_programa = input('Informe o nome do programa')\n",
    "pyautogui.alert('O código vai começar. Não use nada do seu computador enquanto o codigo estiver rodando.')\n",
    "pyautogui.PAUSE = 0.5\n",
    "# abrir o google drive no meu computador\n",
    "pyautogui.press('winleft')\n",
    "pyautogui.write('google chrome')\n",
    "#pyautogui.write(nome_programa)\n",
    "pyautogui.press('enter')\n",
    "                \n",
    "time.sleep(1)\n",
    "\n",
    "pyautogui.write('https://drive.google.com/drive/folders/1NUsBauW1YYDwDVC3zpo4qZoklpxFiH68')\n",
    "pyautogui.press('enter')\n",
    "#entrar na minha area de trabalho\n",
    "pyautogui.hotkey('winleft','d')\n",
    "time.sleep(1)\n",
    "# cliquei no arquivo que eu quero fazer o backup e arrastei ele\n",
    "pyautogui.moveTo(494, 435)\n",
    "pyautogui.mouseDown()\n",
    "pyautogui.moveTo(672, 438)\n",
    "time.sleep(1)\n",
    "# enquanto estou arrastando, eu vou mudar para o google drive\n",
    "pyautogui.hotkey('alt','tab')\n",
    "# larguei o arquivo no google drive\n",
    "pyautogui.mouseUp()\n",
    "# esperar 5 segundos\n",
    "time.sleep(5)\n",
    "\n",
    "pyautogui.alert('O codigo acabou de rodar. O computador ja esta liberado para uso.')"
   ]
  },
  {
   "cell_type": "code",
   "execution_count": 15,
   "id": "fc4e56af",
   "metadata": {},
   "outputs": [
    {
     "data": {
      "text/plain": [
       "Point(x=365, y=204)"
      ]
     },
     "execution_count": 15,
     "metadata": {},
     "output_type": "execute_result"
    }
   ],
   "source": [
    "pyautogui.position()\n",
    "pyautogui.position()"
   ]
  },
  {
   "cell_type": "code",
   "execution_count": null,
   "id": "775693a5",
   "metadata": {},
   "outputs": [],
   "source": []
  }
 ],
 "metadata": {
  "kernelspec": {
   "display_name": "Python 3 (ipykernel)",
   "language": "python",
   "name": "python3"
  },
  "language_info": {
   "codemirror_mode": {
    "name": "ipython",
    "version": 3
   },
   "file_extension": ".py",
   "mimetype": "text/x-python",
   "name": "python",
   "nbconvert_exporter": "python",
   "pygments_lexer": "ipython3",
   "version": "3.9.12"
  }
 },
 "nbformat": 4,
 "nbformat_minor": 5
}
