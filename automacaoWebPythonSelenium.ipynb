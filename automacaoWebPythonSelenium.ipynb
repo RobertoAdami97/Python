{
 "cells": [
  {
   "cell_type": "markdown",
   "id": "2d772ecc",
   "metadata": {},
   "source": [
    "# bot com selenium"
   ]
  },
  {
   "cell_type": "code",
   "execution_count": 1,
   "id": "70e0d748",
   "metadata": {},
   "outputs": [],
   "source": [
    "# chrome -> chromedriver\n",
    "# firefox -> geckodriver\n",
    "import pyautogui\n",
    "from selenium import webdriver\n",
    "import time\n",
    "\n",
    "# abrir o google chrome\n",
    "navegador = webdriver.Firefox()\n",
    "time.sleep(0.5)\n",
    "navegador.get(\"https://stackoverflow.com/users/login\")\n",
    "#pyautogui.click(x=964, y=745)\n",
    "time.sleep(0.5)\n",
    "navegador.find_element(\"xpath\",'//*[@id=\"email\"]').send_keys(\"robertoadami@outlook.com\")\n",
    "navegador.find_element(\"xpath\",'//*[@id=\"password\"]').send_keys(\"CartCoubek(1997)\")\n",
    "navegador.find_element(\"xpath\",'//*[@id=\"submit-button\"]').click()\n"
   ]
  },
  {
   "cell_type": "code",
   "execution_count": null,
   "id": "46905e06",
   "metadata": {},
   "outputs": [],
   "source": []
  }
 ],
 "metadata": {
  "kernelspec": {
   "display_name": "Python 3 (ipykernel)",
   "language": "python",
   "name": "python3"
  },
  "language_info": {
   "codemirror_mode": {
    "name": "ipython",
    "version": 3
   },
   "file_extension": ".py",
   "mimetype": "text/x-python",
   "name": "python",
   "nbconvert_exporter": "python",
   "pygments_lexer": "ipython3",
   "version": "3.9.12"
  }
 },
 "nbformat": 4,
 "nbformat_minor": 5
}
