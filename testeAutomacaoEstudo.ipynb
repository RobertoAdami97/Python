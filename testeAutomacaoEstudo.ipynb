{
 "cells": [
  {
   "cell_type": "code",
   "execution_count": 1,
   "id": "04026ca7",
   "metadata": {},
   "outputs": [
    {
     "name": "stdout",
     "output_type": "stream",
     "text": [
      "1366 768\n"
     ]
    }
   ],
   "source": [
    "import pyautogui as py\n",
    "\n",
    "screenWidth, screenHeight = py.size()\n",
    "\n",
    "print(screenWidth, screenHeight)\n",
    "\n",
    "screenW = screenWidth - 498\n",
    "screenH = screenHeight - 465\n",
    "py.doubleClick()"
   ]
  },
  {
   "cell_type": "code",
   "execution_count": 2,
   "id": "9a088cee",
   "metadata": {},
   "outputs": [
    {
     "data": {
      "text/plain": [
       "Point(x=436, y=185)"
      ]
     },
     "execution_count": 2,
     "metadata": {},
     "output_type": "execute_result"
    }
   ],
   "source": [
    "py.position()\n"
   ]
  },
  {
   "cell_type": "code",
   "execution_count": null,
   "id": "b8ec34ca",
   "metadata": {},
   "outputs": [],
   "source": []
  },
  {
   "cell_type": "code",
   "execution_count": null,
   "id": "77ca79f6",
   "metadata": {},
   "outputs": [],
   "source": []
  }
 ],
 "metadata": {
  "kernelspec": {
   "display_name": "Python 3 (ipykernel)",
   "language": "python",
   "name": "python3"
  },
  "language_info": {
   "codemirror_mode": {
    "name": "ipython",
    "version": 3
   },
   "file_extension": ".py",
   "mimetype": "text/x-python",
   "name": "python",
   "nbconvert_exporter": "python",
   "pygments_lexer": "ipython3",
   "version": "3.9.12"
  }
 },
 "nbformat": 4,
 "nbformat_minor": 5
}
